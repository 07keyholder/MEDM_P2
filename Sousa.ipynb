{
 "cells": [
  {
   "cell_type": "code",
   "execution_count": 1,
   "metadata": {},
   "outputs": [],
   "source": [
    "import numpy as np\n",
    "import pandas as pd\n",
    "from scipy.cluster.hierarchy import dendrogram, linkage\n",
    "import matplotlib.pyplot as plt\n",
    "from sklearn.cluster import KMeans\n",
    "from kmodes.kmodes import KModes\n",
    "from sklearn_extra.cluster import KMedoids\n",
    "from sklearn.cluster import DBSCAN\n",
    "from sklearn.cluster import SpectralClustering\n",
    "from sklearn.decomposition import PCA\n",
    "import prince\n",
    "import gower\n",
    "from sklearn.metrics import silhouette_score\n",
    "from sklearn.metrics import davies_bouldin_score\n",
    "from scipy.spatial.distance import pdist, squareform\n",
    "from sklearn.tree import DecisionTreeClassifier\n",
    "from sklearn import metrics"
   ]
  },
  {
   "cell_type": "markdown",
   "metadata": {},
   "source": [
    "### Quality of clusters scoring methods"
   ]
  },
  {
   "cell_type": "code",
   "execution_count": 2,
   "metadata": {},
   "outputs": [],
   "source": [
    "def normalize_score(score, score_min, score_max):\n",
    "    \"\"\" Normalize a score to a 0-1 scale. \"\"\"\n",
    "    return (score - score_min) / (score_max - score_min)"
   ]
  },
  {
   "cell_type": "code",
   "execution_count": 3,
   "metadata": {},
   "outputs": [],
   "source": [
    "#The silhouette score ranges from -1 to 1. A high value indicates that the object is well matched to its own cluster and poorly matched to neighboring clusters.\n",
    "def gower_silhouette_score(X, labels):\n",
    "    # Compute the Gower distance matrix\n",
    "    gower_dist_matrix = gower.gower_matrix(X)\n",
    "\n",
    "    # Initialize variables to store the intra and nearest-cluster distances\n",
    "    a = np.zeros(X.shape[0])\n",
    "    b = np.zeros(X.shape[0])\n",
    "\n",
    "    # Calculate the average intra-cluster distance (a) and the average nearest-cluster distance (b)\n",
    "    for i in range(X.shape[0]):\n",
    "        # Same cluster mask\n",
    "        same_cluster_mask = (labels == labels[i])\n",
    "        \n",
    "        # Different cluster mask\n",
    "        different_cluster_mask = ~same_cluster_mask\n",
    "\n",
    "        # Intra-cluster distances (a)\n",
    "        a[i] = np.mean(gower_dist_matrix[i][same_cluster_mask])\n",
    "\n",
    "        # Nearest-cluster distances (b)\n",
    "        b[i] = np.min([np.mean(gower_dist_matrix[i][labels == label]) \n",
    "                       for label in set(labels) if label != labels[i]])\n",
    "\n",
    "    # Calculate the silhouette scores\n",
    "    s = (b - a) / np.maximum(a, b)\n",
    "\n",
    "    # Return the average silhouette score\n",
    "    return np.mean(s)\n",
    "\n",
    "# calculate dunn index for a clustering and gower distance matrix\n",
    "# The Dunn Index measures the ratio between the smallest distance between observations not in the same cluster to the largest intra-cluster distance.\n",
    "# A higher value indicates better clustering quality (i.e., clusters are compact and well-separated).\n",
    "from scipy.spatial.distance import pdist, squareform\n",
    "import numpy as np\n",
    "\n",
    "def calculate_dunn_index(distance_matrix, cluster_labels):\n",
    "    \"\"\"\n",
    "    Calculate the Dunn Index for a given clustering.\n",
    "    \n",
    "    :param distance_matrix: The precomputed distance matrix (2D squareform format).\n",
    "    :param cluster_labels: The labels of the clusters for each point.\n",
    "    :return: The Dunn Index value.\n",
    "    \"\"\"\n",
    "    # Unique cluster labels\n",
    "    unique_clusters = np.unique(cluster_labels)\n",
    "\n",
    "    # If there's only one cluster, Dunn Index is not applicable\n",
    "    if len(unique_clusters) == 1:\n",
    "        raise ValueError(\"Dunn Index cannot be calculated for a single cluster\")\n",
    "\n",
    "    # Initialize minimum inter-cluster distance to a large value\n",
    "    min_inter_cluster_dist = np.inf\n",
    "\n",
    "    # Initialize maximum intra-cluster distance to 0\n",
    "    max_intra_cluster_dist = 0\n",
    "\n",
    "    # Calculate minimum inter-cluster distance\n",
    "    for i in range(len(unique_clusters)):\n",
    "        for j in range(i+1, len(unique_clusters)):\n",
    "            cluster_i = unique_clusters[i]\n",
    "            cluster_j = unique_clusters[j]\n",
    "            inter_cluster_distances = distance_matrix[np.ix_(cluster_labels == cluster_i, cluster_labels == cluster_j)]\n",
    "            min_distance = np.min(inter_cluster_distances)\n",
    "            if min_distance < min_inter_cluster_dist:\n",
    "                min_inter_cluster_dist = min_distance\n",
    "\n",
    "    # Calculate maximum intra-cluster distance\n",
    "    for cluster in unique_clusters:\n",
    "        intra_cluster_distances = distance_matrix[np.ix_(cluster_labels == cluster, cluster_labels == cluster)]\n",
    "        max_distance = np.max(intra_cluster_distances)\n",
    "        if max_distance > max_intra_cluster_dist:\n",
    "            max_intra_cluster_dist = max_distance\n",
    "\n",
    "    # Calculate Dunn Index\n",
    "    dunn_index = min_inter_cluster_dist / max_intra_cluster_dist\n",
    "\n",
    "    return dunn_index\n",
    "\n",
    "\n",
    "# calculate davies bouldin index for a clustering and gower distance matrix\n",
    "# Lower values are preferred, indicating that clusters are farther apart and less dispersed.\n",
    "def davies_bouldin_index(X, labels):\n",
    "    # Compute the Gower distance matrix\n",
    "    gower_dist_matrix = gower.gower_matrix(X)\n",
    "\n",
    "    # Initialize variables to store the intra and nearest-cluster distances\n",
    "    a = np.zeros(X.shape[0])\n",
    "    b = np.zeros(X.shape[0])\n",
    "\n",
    "    # Calculate the average intra-cluster distance (a) and the average nearest-cluster distance (b)\n",
    "    for i in range(X.shape[0]):\n",
    "        # Same cluster mask\n",
    "        same_cluster_mask = (labels == labels[i])\n",
    "        \n",
    "        # Different cluster mask\n",
    "        different_cluster_mask = ~same_cluster_mask\n",
    "\n",
    "        # Intra-cluster distances (a)\n",
    "        a[i] = np.mean(gower_dist_matrix[i][same_cluster_mask])\n",
    "\n",
    "        # Nearest-cluster distances (b)\n",
    "        b[i] = np.min([np.mean(gower_dist_matrix[i][labels == label]) \n",
    "                       for label in set(labels) if label != labels[i]])\n",
    "\n",
    "    # Calculate the Davies-Bouldin index\n",
    "    db_index = np.mean((a + b) / np.max(b))\n",
    "\n",
    "    # Return the Davies-Bouldin index\n",
    "    return db_index"
   ]
  },
  {
   "cell_type": "code",
   "execution_count": 4,
   "metadata": {},
   "outputs": [],
   "source": [
    "df = pd.read_csv('./in-vehicle-coupon-recommendation.csv')"
   ]
  },
  {
   "cell_type": "code",
   "execution_count": 5,
   "metadata": {},
   "outputs": [],
   "source": [
    "df = df.drop(columns=['car'])\n",
    "df = df.drop(columns=['toCoupon_GEQ5min'])\n",
    "df = df.drop(columns=['direction_opp'])\n",
    "df = df.drop_duplicates()"
   ]
  },
  {
   "cell_type": "code",
   "execution_count": 6,
   "metadata": {},
   "outputs": [],
   "source": [
    "def value_mapping(df: pd.DataFrame):\n",
    "    frequency_map = {'never': 0,'less1': 1,'1~3': 2,'4~8': 3,'gt8': 4}\n",
    "    age_map = {'below21': 0,'21': 1,'26': 2,'31': 3,'36': 4,'41': 5,'46': 6,'50plus': 7}\n",
    "    income_map = {'Less than $12500': 0,'$12500 - $24999': 1,'$25000 - $37499': 2,'$37500 - $49999': 3,\n",
    "    '$50000 - $62499': 4,'$62500 - $74999': 5,'$75000 - $87499': 6,'$87500 - $99999': 7,'$100000 or More': 8}\n",
    "    temperature_map = {30: 0,55: 1,80: 2}\n",
    "\n",
    "    # CoffeeHouse, CarryAway, RestaurantLessThan20, Restaurant20To50, Bar\n",
    "    df['CoffeeHouse'] = df['CoffeeHouse'].map(frequency_map)\n",
    "    df['CarryAway'] = df['CarryAway'].map(frequency_map)\n",
    "    df['RestaurantLessThan20'] = df['RestaurantLessThan20'].map(frequency_map)\n",
    "    df['Restaurant20To50'] = df['Restaurant20To50'].map(frequency_map)\n",
    "    df['Bar'] = df['Bar'].map(frequency_map)\n",
    "\n",
    "    #age\n",
    "    df['age'] = df['age'].map(age_map)\n",
    "\n",
    "    #income \n",
    "    df['income'] = df['income'].map(income_map)\n",
    "\n",
    "    #temperature\n",
    "    df['temperature'] = df['temperature'].map(temperature_map)\n",
    "\n",
    "    return df"
   ]
  },
  {
   "cell_type": "code",
   "execution_count": 7,
   "metadata": {},
   "outputs": [],
   "source": [
    "df = value_mapping(df)"
   ]
  },
  {
   "cell_type": "code",
   "execution_count": 8,
   "metadata": {},
   "outputs": [],
   "source": [
    "from sklearn.preprocessing import OrdinalEncoder\n",
    "\n",
    "# Assuming df is your DataFrame\n",
    "# df = pd.read_csv('your_data.csv')\n",
    "\n",
    "# Columns for ordinal encoding\n",
    "ordinal_cols = ['destination', 'weather', 'time', 'expiration', 'maritalStatus', 'education']\n",
    "\n",
    "# Define the specific ordering for ordinal columns\n",
    "ordinal_ordering = {\n",
    "    'destination': ['No Urgent Place', 'Home', 'Work'],\n",
    "    'weather': ['Sunny', 'Rainy', 'Snowy'],\n",
    "    'time': ['7AM', '10AM', '2PM', '6PM', '10PM'],\n",
    "    'expiration': ['2h', '1d'],\n",
    "    'maritalStatus': ['Single', 'Unmarried partner', 'Married partner', 'Divorced', 'Widowed'],\n",
    "    'education': ['Some High School', 'High School Graduate', 'Some college - no degree', \n",
    "                  'Associates degree', 'Bachelors degree', 'Graduate degree (Masters or Doctorate)']\n",
    "}\n",
    "\n",
    "# Ordinal encoding\n",
    "ordinal_encoder = OrdinalEncoder(categories=[ordinal_ordering[col] for col in ordinal_cols])\n",
    "df[ordinal_cols] = ordinal_encoder.fit_transform(df[ordinal_cols])\n",
    "\n",
    "# Identify columns to be one-hot encoded (excluding already binary or ordinal encoded columns)\n",
    "columns_to_encode = df.columns.drop(ordinal_cols + ['temperature', 'age', 'has_children', 'income',\n",
    "                                                    'Bar', 'CoffeeHouse', 'CarryAway', 'RestaurantLessThan20',\n",
    "                                                    'Restaurant20To50', 'toCoupon_GEQ15min', 'toCoupon_GEQ25min', \n",
    "                                                    'direction_same', 'Y'])  # Add any other columns to exclude\n",
    "\n",
    "# One-hot encoding for the non-binary categorical columns\n",
    "df = pd.get_dummies(df, columns=columns_to_encode, drop_first=False, dtype=int)\n",
    "\n",
    "# df now contains your processed data"
   ]
  },
  {
   "cell_type": "code",
   "execution_count": 9,
   "metadata": {},
   "outputs": [],
   "source": [
    "### Code for mode imputation\n",
    "df_mode = df.copy()\n",
    "\n",
    "for column in df_mode.columns:\n",
    "    df_mode[column].fillna(df_mode[column].mode()[0], inplace=True)"
   ]
  },
  {
   "cell_type": "code",
   "execution_count": 10,
   "metadata": {},
   "outputs": [
    {
     "data": {
      "text/plain": [
       "destination                                             0\n",
       "weather                                                 0\n",
       "temperature                                             0\n",
       "time                                                    0\n",
       "expiration                                              0\n",
       "age                                                     0\n",
       "maritalStatus                                           0\n",
       "has_children                                            0\n",
       "education                                               0\n",
       "income                                                  0\n",
       "Bar                                                     0\n",
       "CoffeeHouse                                             0\n",
       "CarryAway                                               0\n",
       "RestaurantLessThan20                                    0\n",
       "Restaurant20To50                                        0\n",
       "toCoupon_GEQ15min                                       0\n",
       "toCoupon_GEQ25min                                       0\n",
       "direction_same                                          0\n",
       "Y                                                       0\n",
       "passanger_Alone                                         0\n",
       "passanger_Friend(s)                                     0\n",
       "passanger_Kid(s)                                        0\n",
       "passanger_Partner                                       0\n",
       "coupon_Bar                                              0\n",
       "coupon_Carry out & Take away                            0\n",
       "coupon_Coffee House                                     0\n",
       "coupon_Restaurant(20-50)                                0\n",
       "coupon_Restaurant(<20)                                  0\n",
       "gender_Female                                           0\n",
       "gender_Male                                             0\n",
       "occupation_Architecture & Engineering                   0\n",
       "occupation_Arts Design Entertainment Sports & Media     0\n",
       "occupation_Building & Grounds Cleaning & Maintenance    0\n",
       "occupation_Business & Financial                         0\n",
       "occupation_Community & Social Services                  0\n",
       "occupation_Computer & Mathematical                      0\n",
       "occupation_Construction & Extraction                    0\n",
       "occupation_Education&Training&Library                   0\n",
       "occupation_Farming Fishing & Forestry                   0\n",
       "occupation_Food Preparation & Serving Related           0\n",
       "occupation_Healthcare Practitioners & Technical         0\n",
       "occupation_Healthcare Support                           0\n",
       "occupation_Installation Maintenance & Repair            0\n",
       "occupation_Legal                                        0\n",
       "occupation_Life Physical Social Science                 0\n",
       "occupation_Management                                   0\n",
       "occupation_Office & Administrative Support              0\n",
       "occupation_Personal Care & Service                      0\n",
       "occupation_Production Occupations                       0\n",
       "occupation_Protective Service                           0\n",
       "occupation_Retired                                      0\n",
       "occupation_Sales & Related                              0\n",
       "occupation_Student                                      0\n",
       "occupation_Transportation & Material Moving             0\n",
       "occupation_Unemployed                                   0\n",
       "dtype: int64"
      ]
     },
     "execution_count": 10,
     "metadata": {},
     "output_type": "execute_result"
    }
   ],
   "source": [
    "columns_to_impute = ['Bar', 'CoffeeHouse', 'CarryAway', 'RestaurantLessThan20', 'Restaurant20To50']\n",
    "# get columns and subtract columns to impute\n",
    "columns_to_dummy = list(set(df.columns) - set(columns_to_impute))\n",
    "\n",
    "# Pass nominal columns to dummy variables\n",
    "df_clean_dummies = pd.get_dummies(df, columns=columns_to_dummy, drop_first=True)\n",
    "\n",
    "\n",
    "# Columns to impute\n",
    "columns_to_impute = ['Bar', 'CoffeeHouse', 'CarryAway', 'RestaurantLessThan20', 'Restaurant20To50']\n",
    "\n",
    "# Function to impute missing values using Decision Trees\n",
    "def impute_with_decision_tree(data, column_to_impute, features):\n",
    "    # Split data into train and predict sets\n",
    "    train_data = data[data[column_to_impute].notna()]\n",
    "    predict_data = data[data[column_to_impute].isna()]\n",
    "    \n",
    "    # Train a decision tree classifier\n",
    "    clf = DecisionTreeClassifier()\n",
    "    clf.fit(train_data[features], train_data[column_to_impute])\n",
    "    \n",
    "    # Predict missing values\n",
    "    if not predict_data.empty:\n",
    "        predicted_values = clf.predict(predict_data[features])\n",
    "        data.loc[data[column_to_impute].isna(), column_to_impute] = predicted_values\n",
    "\n",
    "    return data\n",
    "\n",
    "# Features to use for imputation\n",
    "features = df_clean_dummies.drop(columns=columns_to_impute).columns.tolist()\n",
    "\n",
    "# Impute missing values for each column\n",
    "for column in columns_to_impute:\n",
    "    df_clean_dummies = impute_with_decision_tree(df_clean_dummies, column, features)\n",
    "\n",
    "# Now substitute NAN values with the values imputeted in df_clean_dummies in df_clean\n",
    "df['Bar'] = df_clean_dummies['Bar']\n",
    "df['CoffeeHouse'] = df_clean_dummies['CoffeeHouse']\n",
    "df['CarryAway'] = df_clean_dummies['CarryAway']\n",
    "df['RestaurantLessThan20'] = df_clean_dummies['RestaurantLessThan20']\n",
    "df['Restaurant20To50'] = df_clean_dummies['Restaurant20To50']\n",
    "\n",
    "# Check if there are still NAN values\n",
    "df.isna().sum()"
   ]
  },
  {
   "cell_type": "code",
   "execution_count": 11,
   "metadata": {},
   "outputs": [],
   "source": [
    "X = df.drop(\"Y\", axis=1)\n",
    "y = df[\"Y\"]"
   ]
  },
  {
   "cell_type": "code",
   "execution_count": 14,
   "metadata": {},
   "outputs": [],
   "source": [
    "import gower\n",
    "\n",
    "# Compute Gower distance matrix\n",
    "D = gower.gower_matrix(X)"
   ]
  },
  {
   "cell_type": "code",
   "execution_count": 12,
   "metadata": {},
   "outputs": [],
   "source": [
    "mca = prince.MCA(n_components=2, random_state=42)\n",
    "X_mca = mca.fit_transform(X)"
   ]
  },
  {
   "cell_type": "code",
   "execution_count": 41,
   "metadata": {},
   "outputs": [
    {
     "name": "stdout",
     "output_type": "stream",
     "text": [
      "destination: [0. 1. 2.]\n",
      "weather: [0. 1. 2.]\n",
      "temperature: [1 2 0]\n",
      "time: [2. 1. 3. 0. 4.]\n",
      "expiration: [1. 0.]\n",
      "age: [1 6 2 3 5 7 4 0]\n",
      "maritalStatus: [1. 0. 2. 3. 4.]\n",
      "has_children: [1 0]\n",
      "education: [2. 4. 3. 1. 5. 0.]\n",
      "income: [3 5 1 6 4 2 8 7 0]\n",
      "Bar: [0 1 2 4 3]\n",
      "CoffeeHouse: [0 1 3 2 4]\n",
      "CarryAway: [2 3 4 1 0]\n",
      "RestaurantLessThan20: [3 2 1 4 0]\n",
      "Restaurant20To50: [2 1 0 4 3]\n",
      "toCoupon_GEQ15min: [0 1]\n",
      "toCoupon_GEQ25min: [0 1]\n",
      "direction_same: [0 1]\n",
      "passanger_Alone: [1 0]\n",
      "passanger_Friend(s): [0 1]\n",
      "passanger_Kid(s): [0 1]\n",
      "passanger_Partner: [0 1]\n",
      "coupon_Bar: [0 1]\n",
      "coupon_Carry out & Take away: [0 1]\n",
      "coupon_Coffee House: [0 1]\n",
      "coupon_Restaurant(20-50): [0 1]\n",
      "coupon_Restaurant(<20): [1 0]\n",
      "gender_Female: [1 0]\n",
      "gender_Male: [0 1]\n",
      "occupation_Architecture & Engineering: [0 1]\n",
      "occupation_Arts Design Entertainment Sports & Media: [0 1]\n",
      "occupation_Building & Grounds Cleaning & Maintenance: [0 1]\n",
      "occupation_Business & Financial: [0 1]\n",
      "occupation_Community & Social Services: [0 1]\n",
      "occupation_Computer & Mathematical: [0 1]\n",
      "occupation_Construction & Extraction: [0 1]\n",
      "occupation_Education&Training&Library: [0 1]\n",
      "occupation_Farming Fishing & Forestry: [0 1]\n",
      "occupation_Food Preparation & Serving Related: [0 1]\n",
      "occupation_Healthcare Practitioners & Technical: [0 1]\n",
      "occupation_Healthcare Support: [0 1]\n",
      "occupation_Installation Maintenance & Repair: [0 1]\n",
      "occupation_Legal: [0 1]\n",
      "occupation_Life Physical Social Science: [0 1]\n",
      "occupation_Management: [0 1]\n",
      "occupation_Office & Administrative Support: [0 1]\n",
      "occupation_Personal Care & Service: [0 1]\n",
      "occupation_Production Occupations: [0 1]\n",
      "occupation_Protective Service: [0 1]\n",
      "occupation_Retired: [0 1]\n",
      "occupation_Sales & Related: [0 1]\n",
      "occupation_Student: [0 1]\n",
      "occupation_Transportation & Material Moving: [0 1]\n",
      "occupation_Unemployed: [1 0]\n"
     ]
    }
   ],
   "source": [
    "for column in X.columns:\n",
    "    print(f\"{column}: {X[column].unique()}\")"
   ]
  },
  {
   "cell_type": "markdown",
   "metadata": {},
   "source": [
    "# Clustering "
   ]
  },
  {
   "cell_type": "markdown",
   "metadata": {},
   "source": [
    "### Hierarchical Clustering"
   ]
  },
  {
   "cell_type": "code",
   "execution_count": null,
   "metadata": {},
   "outputs": [],
   "source": [
    "# Hierarchical clustering and dendrogram plotting\n",
    "linkage_methods = ['single', 'complete', 'average', 'ward', 'centroid']\n",
    "for method in linkage_methods:\n",
    "    linked = linkage(X, method=method)\n",
    "\n",
    "    plt.figure(figsize=(10, 7))\n",
    "    dendrogram(linked, orientation='top', distance_sort='descending', show_leaf_counts=True)\n",
    "    plt.title(f'Dendrogram - {method.title()} Linkage')\n",
    "    plt.xlabel(\"Sample Index\")\n",
    "    plt.ylabel(\"Distance\")\n",
    "    plt.show()"
   ]
  },
  {
   "cell_type": "markdown",
   "metadata": {},
   "source": [
    "### K-medoids"
   ]
  },
  {
   "cell_type": "code",
   "execution_count": 13,
   "metadata": {},
   "outputs": [],
   "source": [
    "D = squareform(pdist(X, metric='euclidean'))"
   ]
  },
  {
   "cell_type": "code",
   "execution_count": 14,
   "metadata": {},
   "outputs": [],
   "source": [
    "# K-Medoids clustering\n",
    "kmedoids = KMedoids(n_clusters=2, random_state=0)\n",
    "clusters = kmedoids.fit_predict(D)\n",
    "                                \n",
    "plt.scatter(X_mca[0], X_mca[1], c=clusters, cmap='viridis', alpha=0.6, s=10)\n",
    "plt.title(\"K-Medoids Clustering with MCA\")\n",
    "plt.xlabel(\"MCA Component 1\")\n",
    "plt.ylabel(\"MCA Component 2\")\n",
    "plt.show()"
   ]
  },
  {
   "cell_type": "code",
   "execution_count": 18,
   "metadata": {},
   "outputs": [],
   "source": [
    "df_test1 = df.copy()"
   ]
  },
  {
   "cell_type": "code",
   "execution_count": 19,
   "metadata": {},
   "outputs": [],
   "source": [
    "df_test1['Cluster_Kmedoids'] = clusters"
   ]
  },
  {
   "cell_type": "code",
   "execution_count": 20,
   "metadata": {},
   "outputs": [
    {
     "name": "stdout",
     "output_type": "stream",
     "text": [
      "Cluster_Kmedoids  Y\n",
      "0                 1     986\n",
      "                  0     823\n",
      "1                 1    1642\n",
      "                  0    1466\n",
      "2                 1    1286\n",
      "                  0     868\n",
      "3                 1     791\n",
      "                  0     645\n",
      "4                 1    1388\n",
      "                  0     866\n",
      "5                 1    1064\n",
      "                  0     785\n",
      "Name: count, dtype: int64\n"
     ]
    }
   ],
   "source": [
    "# Group by cluster label and then count the occurrences of each class in each cluster\n",
    "class_distribution = df_test1.groupby('Cluster_Kmedoids')['Y'].value_counts()\n",
    "\n",
    "print(class_distribution)"
   ]
  },
  {
   "cell_type": "code",
   "execution_count": 21,
   "metadata": {},
   "outputs": [
    {
     "name": "stdout",
     "output_type": "stream",
     "text": [
      "Gower Silhouette Score: 0.12253142522485645\n",
      "Dunn Index: 0.07516460280028289\n",
      "Davies-Bouldin Index: 2.5733442763296632\n",
      "Contingency Matrix:\n",
      "[[2854 2599]\n",
      " [4137 3020]]\n",
      "Number of Clusters: 2\n",
      "Samples per Cluster: [6991 5619]\n",
      "Composite Score (Normalized): 0.37733307085390083\n",
      "Gower Silhouette Score: 0.07265696760443122\n",
      "Dunn Index: 0.10629880069054679\n",
      "Davies-Bouldin Index: 3.519897999546153\n",
      "Contingency Matrix:\n",
      "[[2338 2192  923]\n",
      " [3245 2463 1449]]\n",
      "Number of Clusters: 3\n",
      "Samples per Cluster: [5583 4655 2372]\n",
      "Composite Score (Normalized): 0.3541276534754157\n",
      "Gower Silhouette Score: 0.03709970837036766\n",
      "Dunn Index: 0.07516460280028289\n",
      "Davies-Bouldin Index: 4.592319555290301\n",
      "Contingency Matrix:\n",
      "[[1434 2140  864 1015]\n",
      " [2000 2393 1341 1423]]\n",
      "Number of Clusters: 4\n",
      "Samples per Cluster: [3434 4533 2205 2438]\n",
      "Composite Score (Normalized): 0.2951462735384577\n"
     ]
    }
   ],
   "source": [
    "from sklearn.metrics import silhouette_score, davies_bouldin_score\n",
    "\n",
    "# Compute Euclidean distance matrix\n",
    "D = squareform(pdist(X, metric='euclidean'))\n",
    "\n",
    "# Range of k to evaluate\n",
    "k_range = range(2, 5)  # Adjust according to your needs\n",
    "\n",
    "\n",
    "for k in k_range:\n",
    "    # Apply K-Medoids\n",
    "    kmedoids = KMedoids(n_clusters=k,metric = 'precomputed', random_state=0)\n",
    "    y_pred = kmedoids.fit_predict(D)\n",
    "    \n",
    "    silhouette_avg = silhouette_score(D ,y_pred, metric='precomputed')\n",
    "    print(f\"Gower Silhouette Score: {silhouette_avg}\")\n",
    "    # Calculate Dunn Index\n",
    "    dunn_index_score = calculate_dunn_index(D, y_pred)\n",
    "    print(f\"Dunn Index: {dunn_index_score}\")\n",
    "    # Calculate Davies-Bouldin Index\n",
    "    db_index = davies_bouldin_score(X, y_pred) #davies_bouldin_index(X, y_pred)\n",
    "    print(f\"Davies-Bouldin Index: {db_index}\")\n",
    "\n",
    "\n",
    "    print(f\"Contingency Matrix:\\n{metrics.cluster.contingency_matrix(y, y_pred)}\")\n",
    "    print(f\"Number of Clusters: {np.unique(y_pred).size}\")\n",
    "    print(f\"Samples per Cluster: {np.unique(y_pred, return_counts=True)[1]}\")\n",
    "        \n",
    "    ### Calculate composite score\n",
    "    # Normalizing Silhouette Score (range [-1, 1] to [0, 1])\n",
    "    normalized_silhouette = normalize_score(silhouette_avg, -1, 1)\n",
    "\n",
    "    # Normalizing Dunn Index (Assuming a maximum reasonable value for normalization)\n",
    "    # This maximum value is an assumption and should be adjusted based on domain knowledge\n",
    "    max_reasonable_dunn = 0.5  # Example value, adjust based on your data\n",
    "    davies_bouldin_index = 8\n",
    "    normalized_dunn = normalize_score(dunn_index_score, 0, max_reasonable_dunn)\n",
    "\n",
    "    # Normalizing Davies-Bouldin Index (using a logarithmic scale due to high values)\n",
    "    # We add 1 to avoid log(0) in case of a DB index of 0\n",
    "    normalized_davies_bouldin = 1 - np.log(1 + db_index) / np.log(1 + max(db_index, davies_bouldin_index))\n",
    "\n",
    "    # Assuming equal weights for simplicity, but these can be adjusted\n",
    "    weight_silhouette = 1/3\n",
    "    weight_dunn = 1/3\n",
    "    weight_davies_bouldin = 1/3\n",
    "\n",
    "    # Calculating weighted average\n",
    "    composite_score_normalized = (weight_silhouette * normalized_silhouette + \n",
    "                                    weight_dunn * normalized_dunn + \n",
    "                                    weight_davies_bouldin * normalized_davies_bouldin)\n",
    "    print(f\"Composite Score (Normalized): {composite_score_normalized}\")"
   ]
  },
  {
   "cell_type": "code",
   "execution_count": 16,
   "metadata": {},
   "outputs": [],
   "source": [
    "kmedoids = KMedoids(n_clusters=6, random_state=0)\n",
    "clusters = kmedoids.fit_predict(D)"
   ]
  },
  {
   "cell_type": "markdown",
   "metadata": {},
   "source": [
    "### K-modes"
   ]
  },
  {
   "cell_type": "code",
   "execution_count": 26,
   "metadata": {},
   "outputs": [],
   "source": [
    "D = squareform(pdist(X, metric='euclidean'))"
   ]
  },
  {
   "cell_type": "code",
   "execution_count": 28,
   "metadata": {},
   "outputs": [],
   "source": [
    "# K-Modes clustering\n",
    "km = KModes(n_clusters=2, init='Huang', random_state=42)\n",
    "y_pred = km.fit_predict(D)\n",
    "\n",
    "plt.scatter(X_mca[0], X_mca[1], c=y_pred, cmap='viridis', alpha=0.6, s = 10)\n",
    "plt.title(\"K-Modes Clustering with MCA\")\n",
    "plt.xlabel(\"MCA Component 1\")\n",
    "plt.ylabel(\"MCA Component 2\")\n",
    "plt.show()"
   ]
  },
  {
   "cell_type": "code",
   "execution_count": 22,
   "metadata": {},
   "outputs": [
    {
     "name": "stdout",
     "output_type": "stream",
     "text": [
      "Gower Silhouette Score: 0.03582839169213371\n",
      "Dunn Index: 0.07198157507486945\n",
      "Davies-Bouldin Index: 5.24884840178849\n",
      "Contingency Matrix:\n",
      "[[3372 2081]\n",
      " [4014 3143]]\n",
      "Number of Clusters: 2\n",
      "Samples per Cluster: [7386 5224]\n",
      "Composite Score (Normalized): 0.2759724816550711\n",
      "Gower Silhouette Score: 0.015176979054428915\n",
      "Dunn Index: 0.07198157507486945\n",
      "Davies-Bouldin Index: 5.662514370181363\n",
      "Contingency Matrix:\n",
      "[[1455 2469 1529]\n",
      " [2660 2516 1981]]\n",
      "Number of Clusters: 3\n",
      "Samples per Cluster: [4115 4985 3510]\n",
      "Composite Score (Normalized): 0.2628062275990954\n",
      "Gower Silhouette Score: 0.0006411991065080866\n",
      "Dunn Index: 0.07235746052924216\n",
      "Davies-Bouldin Index: 5.3764331375682515\n",
      "Contingency Matrix:\n",
      "[[1909 1736 1145  663]\n",
      " [1680 2529 1955  993]]\n",
      "Number of Clusters: 4\n",
      "Samples per Cluster: [3589 4265 3100 1656]\n",
      "Composite Score (Normalized): 0.2672922957717152\n"
     ]
    }
   ],
   "source": [
    "from sklearn.metrics import silhouette_score, davies_bouldin_score\n",
    "D = squareform(pdist(X, metric='euclidean'))\n",
    "\n",
    "\n",
    "# Range of k to evaluate\n",
    "k_range = range(2, 5)  # Adjust according to your needs\n",
    "\n",
    "# Store scores for each k\n",
    "scores = []\n",
    "\n",
    "for k in k_range:\n",
    "    # Apply K-Medoids\n",
    "    km = KModes(n_clusters=k, init='Huang', random_state=42)\n",
    "    y_pred = km.fit_predict(X)\n",
    "    \n",
    "    silhouette_avg = silhouette_score(D ,y_pred, metric='precomputed')\n",
    "    print(f\"Gower Silhouette Score: {silhouette_avg}\")\n",
    "    # Calculate Dunn Index\n",
    "    dunn_index_score = calculate_dunn_index(D, y_pred)\n",
    "    print(f\"Dunn Index: {dunn_index_score}\")\n",
    "    # Calculate Davies-Bouldin Index\n",
    "    db_index = davies_bouldin_score(X, y_pred) #davies_bouldin_index(X, y_pred)\n",
    "    print(f\"Davies-Bouldin Index: {db_index}\")\n",
    "\n",
    "\n",
    "    print(f\"Contingency Matrix:\\n{metrics.cluster.contingency_matrix(y, y_pred)}\")\n",
    "    print(f\"Number of Clusters: {np.unique(y_pred).size}\")\n",
    "    print(f\"Samples per Cluster: {np.unique(y_pred, return_counts=True)[1]}\")\n",
    "        \n",
    "    ### Calculate composite score\n",
    "    # Normalizing Silhouette Score (range [-1, 1] to [0, 1])\n",
    "    normalized_silhouette = normalize_score(silhouette_avg, -1, 1)\n",
    "\n",
    "    # Normalizing Dunn Index (Assuming a maximum reasonable value for normalization)\n",
    "    # This maximum value is an assumption and should be adjusted based on domain knowledge\n",
    "    max_reasonable_dunn = 0.5  # Example value, adjust based on your data\n",
    "    davies_bouldin_index = 8\n",
    "    normalized_dunn = normalize_score(dunn_index_score, 0, max_reasonable_dunn)\n",
    "\n",
    "    # Normalizing Davies-Bouldin Index (using a logarithmic scale due to high values)\n",
    "    # We add 1 to avoid log(0) in case of a DB index of 0\n",
    "    normalized_davies_bouldin = 1 - np.log(1 + db_index) / np.log(1 + max(db_index, davies_bouldin_index))\n",
    "\n",
    "    # Assuming equal weights for simplicity, but these can be adjusted\n",
    "    weight_silhouette = 1/3\n",
    "    weight_dunn = 1/3\n",
    "    weight_davies_bouldin = 1/3\n",
    "\n",
    "    # Calculating weighted average\n",
    "    composite_score_normalized = (weight_silhouette * normalized_silhouette + \n",
    "                                    weight_dunn * normalized_dunn + \n",
    "                                    weight_davies_bouldin * normalized_davies_bouldin)\n",
    "    print(f\"Composite Score (Normalized): {composite_score_normalized}\")"
   ]
  },
  {
   "cell_type": "code",
   "execution_count": 16,
   "metadata": {},
   "outputs": [
    {
     "name": "stdout",
     "output_type": "stream",
     "text": [
      "Rand Index: 0.001221186143976147\n"
     ]
    }
   ],
   "source": [
    "km = KModes(n_clusters=2, init='Huang', random_state=42)\n",
    "clusters = km.fit_predict(X)\n",
    "\n",
    "rand_index = adjusted_rand_score(y, clusters)\n",
    "print(f'Rand Index: {rand_index}')"
   ]
  },
  {
   "cell_type": "code",
   "execution_count": 19,
   "metadata": {},
   "outputs": [
    {
     "name": "stdout",
     "output_type": "stream",
     "text": [
      "Purity: 0.5675654242664552\n",
      "F1 Score: 0.4604325667502479\n"
     ]
    }
   ],
   "source": [
    "from sklearn.metrics import f1_score, confusion_matrix\n",
    "import numpy as np\n",
    "\n",
    "# Purity\n",
    "def purity_score(y_true, y_pred):\n",
    "    # compute confusion matrix\n",
    "    confusion_matrix_ = confusion_matrix(y_true, y_pred)\n",
    "    # return purity\n",
    "    return np.sum(np.amax(confusion_matrix_, axis=0)) / np.sum(confusion_matrix_)\n",
    "\n",
    "purity = purity_score(y, clusters)\n",
    "print(f'Purity: {purity}')\n",
    "\n",
    "# F1 Score\n",
    "f1 = f1_score(y, clusters, average='macro')\n",
    "print(f'F1 Score: {f1}')"
   ]
  },
  {
   "cell_type": "markdown",
   "metadata": {},
   "source": [
    "### DBSCAN"
   ]
  },
  {
   "cell_type": "code",
   "execution_count": 22,
   "metadata": {},
   "outputs": [
    {
     "data": {
      "image/png": "[encoded data removed]",
      "text/plain": [
       "<Figure size 640x480 with 1 Axes>"
      ]
     },
     "metadata": {},
     "output_type": "display_data"
    }
   ],
   "source": [
    "# DBSCAN clustering\n",
    "dbscan = DBSCAN(eps=10, min_samples=10)\n",
    "clusters = dbscan.fit_predict(X)\n",
    "\n",
    "# Plotting\n",
    "plt.scatter(X_pca[:, 0], X_pca[:, 1], c=clusters, cmap='viridis', alpha=0.6)\n",
    "plt.title(\"DBSCAN Clustering after PCA\")\n",
    "plt.xlabel(\"PCA Component 1\")\n",
    "plt.ylabel(\"PCA Component 2\")\n",
    "plt.show()"
   ]
  },
  {
   "cell_type": "markdown",
   "metadata": {},
   "source": [
    "### Spectral clustering"
   ]
  },
  {
   "cell_type": "code",
   "execution_count": 23,
   "metadata": {},
   "outputs": [
    {
     "name": "stderr",
     "output_type": "stream",
     "text": [
      "/Users/davidsousa/Library/Python/3.9/lib/python/site-packages/sklearn/manifold/_spectral_embedding.py:273: UserWarning: Graph is not fully connected, spectral embedding may not work as expected.\n",
      "  warnings.warn(\n"
     ]
    },
    {
     "ename": "KeyboardInterrupt",
     "evalue": "",
     "output_type": "error",
     "traceback": [
      "\u001b[0;31m---------------------------------------------------------------------------\u001b[0m",
      "\u001b[0;31mKeyboardInterrupt\u001b[0m                         Traceback (most recent call last)",
      "Cell \u001b[0;32mIn[23], line 3\u001b[0m\n\u001b[1;32m      1\u001b[0m \u001b[38;5;66;03m# Spectral Clustering\u001b[39;00m\n\u001b[1;32m      2\u001b[0m spectral \u001b[38;5;241m=\u001b[39m SpectralClustering(n_clusters\u001b[38;5;241m=\u001b[39m\u001b[38;5;241m3\u001b[39m, assign_labels\u001b[38;5;241m=\u001b[39m\u001b[38;5;124m'\u001b[39m\u001b[38;5;124mdiscretize\u001b[39m\u001b[38;5;124m'\u001b[39m, random_state\u001b[38;5;241m=\u001b[39m\u001b[38;5;241m0\u001b[39m)\n\u001b[0;32m----> 3\u001b[0m clusters \u001b[38;5;241m=\u001b[39m \u001b[43mspectral\u001b[49m\u001b[38;5;241;43m.\u001b[39;49m\u001b[43mfit_predict\u001b[49m\u001b[43m(\u001b[49m\u001b[43mX\u001b[49m\u001b[43m)\u001b[49m\n\u001b[1;32m      5\u001b[0m \u001b[38;5;66;03m# Plotting\u001b[39;00m\n\u001b[1;32m      6\u001b[0m plt\u001b[38;5;241m.\u001b[39mscatter(X_pca[:, \u001b[38;5;241m0\u001b[39m], X_pca[:, \u001b[38;5;241m1\u001b[39m], c\u001b[38;5;241m=\u001b[39mclusters, cmap\u001b[38;5;241m=\u001b[39m\u001b[38;5;124m'\u001b[39m\u001b[38;5;124mviridis\u001b[39m\u001b[38;5;124m'\u001b[39m, alpha\u001b[38;5;241m=\u001b[39m\u001b[38;5;241m0.6\u001b[39m)\n",
      "File \u001b[0;32m~/Library/Python/3.9/lib/python/site-packages/sklearn/cluster/_spectral.py:778\u001b[0m, in \u001b[0;36mSpectralClustering.fit_predict\u001b[0;34m(self, X, y)\u001b[0m\n\u001b[1;32m    756\u001b[0m \u001b[38;5;28;01mdef\u001b[39;00m \u001b[38;5;21mfit_predict\u001b[39m(\u001b[38;5;28mself\u001b[39m, X, y\u001b[38;5;241m=\u001b[39m\u001b[38;5;28;01mNone\u001b[39;00m):\n\u001b[1;32m    757\u001b[0m \u001b[38;5;250m    \u001b[39m\u001b[38;5;124;03m\"\"\"Perform spectral clustering on `X` and return cluster labels.\u001b[39;00m\n\u001b[1;32m    758\u001b[0m \n\u001b[1;32m    759\u001b[0m \u001b[38;5;124;03m    Parameters\u001b[39;00m\n\u001b[0;32m   (...)\u001b[0m\n\u001b[1;32m    776\u001b[0m \u001b[38;5;124;03m        Cluster labels.\u001b[39;00m\n\u001b[1;32m    777\u001b[0m \u001b[38;5;124;03m    \"\"\"\u001b[39;00m\n\u001b[0;32m--> 778\u001b[0m     \u001b[38;5;28;01mreturn\u001b[39;00m \u001b[38;5;28;43msuper\u001b[39;49m\u001b[43m(\u001b[49m\u001b[43m)\u001b[49m\u001b[38;5;241;43m.\u001b[39;49m\u001b[43mfit_predict\u001b[49m\u001b[43m(\u001b[49m\u001b[43mX\u001b[49m\u001b[43m,\u001b[49m\u001b[43m \u001b[49m\u001b[43my\u001b[49m\u001b[43m)\u001b[49m\n",
      "File \u001b[0;32m~/Library/Python/3.9/lib/python/site-packages/sklearn/base.py:791\u001b[0m, in \u001b[0;36mClusterMixin.fit_predict\u001b[0;34m(self, X, y)\u001b[0m\n\u001b[1;32m    773\u001b[0m \u001b[38;5;250m\u001b[39m\u001b[38;5;124;03m\"\"\"\u001b[39;00m\n\u001b[1;32m    774\u001b[0m \u001b[38;5;124;03mPerform clustering on `X` and returns cluster labels.\u001b[39;00m\n\u001b[1;32m    775\u001b[0m \n\u001b[0;32m   (...)\u001b[0m\n\u001b[1;32m    787\u001b[0m \u001b[38;5;124;03m    Cluster labels.\u001b[39;00m\n\u001b[1;32m    788\u001b[0m \u001b[38;5;124;03m\"\"\"\u001b[39;00m\n\u001b[1;32m    789\u001b[0m \u001b[38;5;66;03m# non-optimized default implementation; override when a better\u001b[39;00m\n\u001b[1;32m    790\u001b[0m \u001b[38;5;66;03m# method is possible for a given clustering algorithm\u001b[39;00m\n\u001b[0;32m--> 791\u001b[0m \u001b[38;5;28;43mself\u001b[39;49m\u001b[38;5;241;43m.\u001b[39;49m\u001b[43mfit\u001b[49m\u001b[43m(\u001b[49m\u001b[43mX\u001b[49m\u001b[43m)\u001b[49m\n\u001b[1;32m    792\u001b[0m \u001b[38;5;28;01mreturn\u001b[39;00m \u001b[38;5;28mself\u001b[39m\u001b[38;5;241m.\u001b[39mlabels_\n",
      "File \u001b[0;32m~/Library/Python/3.9/lib/python/site-packages/sklearn/base.py:1152\u001b[0m, in \u001b[0;36m_fit_context.<locals>.decorator.<locals>.wrapper\u001b[0;34m(estimator, *args, **kwargs)\u001b[0m\n\u001b[1;32m   1145\u001b[0m     estimator\u001b[38;5;241m.\u001b[39m_validate_params()\n\u001b[1;32m   1147\u001b[0m \u001b[38;5;28;01mwith\u001b[39;00m config_context(\n\u001b[1;32m   1148\u001b[0m     skip_parameter_validation\u001b[38;5;241m=\u001b[39m(\n\u001b[1;32m   1149\u001b[0m         prefer_skip_nested_validation \u001b[38;5;129;01mor\u001b[39;00m global_skip_validation\n\u001b[1;32m   1150\u001b[0m     )\n\u001b[1;32m   1151\u001b[0m ):\n\u001b[0;32m-> 1152\u001b[0m     \u001b[38;5;28;01mreturn\u001b[39;00m \u001b[43mfit_method\u001b[49m\u001b[43m(\u001b[49m\u001b[43mestimator\u001b[49m\u001b[43m,\u001b[49m\u001b[43m \u001b[49m\u001b[38;5;241;43m*\u001b[39;49m\u001b[43margs\u001b[49m\u001b[43m,\u001b[49m\u001b[43m \u001b[49m\u001b[38;5;241;43m*\u001b[39;49m\u001b[38;5;241;43m*\u001b[39;49m\u001b[43mkwargs\u001b[49m\u001b[43m)\u001b[49m\n",
      "File \u001b[0;32m~/Library/Python/3.9/lib/python/site-packages/sklearn/cluster/_spectral.py:730\u001b[0m, in \u001b[0;36mSpectralClustering.fit\u001b[0;34m(self, X, y)\u001b[0m\n\u001b[1;32m    721\u001b[0m n_components \u001b[38;5;241m=\u001b[39m (\n\u001b[1;32m    722\u001b[0m     \u001b[38;5;28mself\u001b[39m\u001b[38;5;241m.\u001b[39mn_clusters \u001b[38;5;28;01mif\u001b[39;00m \u001b[38;5;28mself\u001b[39m\u001b[38;5;241m.\u001b[39mn_components \u001b[38;5;129;01mis\u001b[39;00m \u001b[38;5;28;01mNone\u001b[39;00m \u001b[38;5;28;01melse\u001b[39;00m \u001b[38;5;28mself\u001b[39m\u001b[38;5;241m.\u001b[39mn_components\n\u001b[1;32m    723\u001b[0m )\n\u001b[1;32m    724\u001b[0m \u001b[38;5;66;03m# We now obtain the real valued solution matrix to the\u001b[39;00m\n\u001b[1;32m    725\u001b[0m \u001b[38;5;66;03m# relaxed Ncut problem, solving the eigenvalue problem\u001b[39;00m\n\u001b[1;32m    726\u001b[0m \u001b[38;5;66;03m# L_sym x = lambda x  and recovering u = D^-1/2 x.\u001b[39;00m\n\u001b[1;32m    727\u001b[0m \u001b[38;5;66;03m# The first eigenvector is constant only for fully connected graphs\u001b[39;00m\n\u001b[1;32m    728\u001b[0m \u001b[38;5;66;03m# and should be kept for spectral clustering (drop_first = False)\u001b[39;00m\n\u001b[1;32m    729\u001b[0m \u001b[38;5;66;03m# See spectral_embedding documentation.\u001b[39;00m\n\u001b[0;32m--> 730\u001b[0m maps \u001b[38;5;241m=\u001b[39m \u001b[43mspectral_embedding\u001b[49m\u001b[43m(\u001b[49m\n\u001b[1;32m    731\u001b[0m \u001b[43m    \u001b[49m\u001b[38;5;28;43mself\u001b[39;49m\u001b[38;5;241;43m.\u001b[39;49m\u001b[43maffinity_matrix_\u001b[49m\u001b[43m,\u001b[49m\n\u001b[1;32m    732\u001b[0m \u001b[43m    \u001b[49m\u001b[43mn_components\u001b[49m\u001b[38;5;241;43m=\u001b[39;49m\u001b[43mn_components\u001b[49m\u001b[43m,\u001b[49m\n\u001b[1;32m    733\u001b[0m \u001b[43m    \u001b[49m\u001b[43meigen_solver\u001b[49m\u001b[38;5;241;43m=\u001b[39;49m\u001b[38;5;28;43mself\u001b[39;49m\u001b[38;5;241;43m.\u001b[39;49m\u001b[43meigen_solver\u001b[49m\u001b[43m,\u001b[49m\n\u001b[1;32m    734\u001b[0m \u001b[43m    \u001b[49m\u001b[43mrandom_state\u001b[49m\u001b[38;5;241;43m=\u001b[39;49m\u001b[43mrandom_state\u001b[49m\u001b[43m,\u001b[49m\n\u001b[1;32m    735\u001b[0m \u001b[43m    \u001b[49m\u001b[43meigen_tol\u001b[49m\u001b[38;5;241;43m=\u001b[39;49m\u001b[38;5;28;43mself\u001b[39;49m\u001b[38;5;241;43m.\u001b[39;49m\u001b[43meigen_tol\u001b[49m\u001b[43m,\u001b[49m\n\u001b[1;32m    736\u001b[0m \u001b[43m    \u001b[49m\u001b[43mdrop_first\u001b[49m\u001b[38;5;241;43m=\u001b[39;49m\u001b[38;5;28;43;01mFalse\u001b[39;49;00m\u001b[43m,\u001b[49m\n\u001b[1;32m    737\u001b[0m \u001b[43m\u001b[49m\u001b[43m)\u001b[49m\n\u001b[1;32m    738\u001b[0m \u001b[38;5;28;01mif\u001b[39;00m \u001b[38;5;28mself\u001b[39m\u001b[38;5;241m.\u001b[39mverbose:\n\u001b[1;32m    739\u001b[0m     \u001b[38;5;28mprint\u001b[39m(\u001b[38;5;124mf\u001b[39m\u001b[38;5;124m\"\u001b[39m\u001b[38;5;124mComputing label assignment using \u001b[39m\u001b[38;5;132;01m{\u001b[39;00m\u001b[38;5;28mself\u001b[39m\u001b[38;5;241m.\u001b[39massign_labels\u001b[38;5;132;01m}\u001b[39;00m\u001b[38;5;124m\"\u001b[39m)\n",
      "File \u001b[0;32m~/Library/Python/3.9/lib/python/site-packages/sklearn/manifold/_spectral_embedding.py:313\u001b[0m, in \u001b[0;36mspectral_embedding\u001b[0;34m(adjacency, n_components, eigen_solver, random_state, eigen_tol, norm_laplacian, drop_first)\u001b[0m\n\u001b[1;32m    311\u001b[0m laplacian \u001b[38;5;241m*\u001b[39m\u001b[38;5;241m=\u001b[39m \u001b[38;5;241m-\u001b[39m\u001b[38;5;241m1\u001b[39m\n\u001b[1;32m    312\u001b[0m v0 \u001b[38;5;241m=\u001b[39m _init_arpack_v0(laplacian\u001b[38;5;241m.\u001b[39mshape[\u001b[38;5;241m0\u001b[39m], random_state)\n\u001b[0;32m--> 313\u001b[0m _, diffusion_map \u001b[38;5;241m=\u001b[39m \u001b[43meigsh\u001b[49m\u001b[43m(\u001b[49m\n\u001b[1;32m    314\u001b[0m \u001b[43m    \u001b[49m\u001b[43mlaplacian\u001b[49m\u001b[43m,\u001b[49m\u001b[43m \u001b[49m\u001b[43mk\u001b[49m\u001b[38;5;241;43m=\u001b[39;49m\u001b[43mn_components\u001b[49m\u001b[43m,\u001b[49m\u001b[43m \u001b[49m\u001b[43msigma\u001b[49m\u001b[38;5;241;43m=\u001b[39;49m\u001b[38;5;241;43m1.0\u001b[39;49m\u001b[43m,\u001b[49m\u001b[43m \u001b[49m\u001b[43mwhich\u001b[49m\u001b[38;5;241;43m=\u001b[39;49m\u001b[38;5;124;43m\"\u001b[39;49m\u001b[38;5;124;43mLM\u001b[39;49m\u001b[38;5;124;43m\"\u001b[39;49m\u001b[43m,\u001b[49m\u001b[43m \u001b[49m\u001b[43mtol\u001b[49m\u001b[38;5;241;43m=\u001b[39;49m\u001b[43mtol\u001b[49m\u001b[43m,\u001b[49m\u001b[43m \u001b[49m\u001b[43mv0\u001b[49m\u001b[38;5;241;43m=\u001b[39;49m\u001b[43mv0\u001b[49m\n\u001b[1;32m    315\u001b[0m \u001b[43m\u001b[49m\u001b[43m)\u001b[49m\n\u001b[1;32m    316\u001b[0m embedding \u001b[38;5;241m=\u001b[39m diffusion_map\u001b[38;5;241m.\u001b[39mT[n_components::\u001b[38;5;241m-\u001b[39m\u001b[38;5;241m1\u001b[39m]\n\u001b[1;32m    317\u001b[0m \u001b[38;5;28;01mif\u001b[39;00m norm_laplacian:\n\u001b[1;32m    318\u001b[0m     \u001b[38;5;66;03m# recover u = D^-1/2 x from the eigenvector output x\u001b[39;00m\n",
      "File \u001b[0;32m~/Library/Python/3.9/lib/python/site-packages/scipy/sparse/linalg/_eigen/arpack/arpack.py:1697\u001b[0m, in \u001b[0;36meigsh\u001b[0;34m(A, k, M, sigma, which, v0, ncv, maxiter, tol, return_eigenvectors, Minv, OPinv, mode)\u001b[0m\n\u001b[1;32m   1695\u001b[0m \u001b[38;5;28;01mwith\u001b[39;00m _ARPACK_LOCK:\n\u001b[1;32m   1696\u001b[0m     \u001b[38;5;28;01mwhile\u001b[39;00m \u001b[38;5;129;01mnot\u001b[39;00m params\u001b[38;5;241m.\u001b[39mconverged:\n\u001b[0;32m-> 1697\u001b[0m         \u001b[43mparams\u001b[49m\u001b[38;5;241;43m.\u001b[39;49m\u001b[43miterate\u001b[49m\u001b[43m(\u001b[49m\u001b[43m)\u001b[49m\n\u001b[1;32m   1699\u001b[0m     \u001b[38;5;28;01mreturn\u001b[39;00m params\u001b[38;5;241m.\u001b[39mextract(return_eigenvectors)\n",
      "File \u001b[0;32m~/Library/Python/3.9/lib/python/site-packages/scipy/sparse/linalg/_eigen/arpack/arpack.py:560\u001b[0m, in \u001b[0;36m_SymmetricArpackParams.iterate\u001b[0;34m(self)\u001b[0m\n\u001b[1;32m    558\u001b[0m     \u001b[38;5;28;01melse\u001b[39;00m:\n\u001b[1;32m    559\u001b[0m         Bxslice \u001b[38;5;241m=\u001b[39m \u001b[38;5;28mslice\u001b[39m(\u001b[38;5;28mself\u001b[39m\u001b[38;5;241m.\u001b[39mipntr[\u001b[38;5;241m2\u001b[39m] \u001b[38;5;241m-\u001b[39m \u001b[38;5;241m1\u001b[39m, \u001b[38;5;28mself\u001b[39m\u001b[38;5;241m.\u001b[39mipntr[\u001b[38;5;241m2\u001b[39m] \u001b[38;5;241m-\u001b[39m \u001b[38;5;241m1\u001b[39m \u001b[38;5;241m+\u001b[39m \u001b[38;5;28mself\u001b[39m\u001b[38;5;241m.\u001b[39mn)\n\u001b[0;32m--> 560\u001b[0m         \u001b[38;5;28mself\u001b[39m\u001b[38;5;241m.\u001b[39mworkd[yslice] \u001b[38;5;241m=\u001b[39m \u001b[38;5;28;43mself\u001b[39;49m\u001b[38;5;241;43m.\u001b[39;49m\u001b[43mOPa\u001b[49m\u001b[43m(\u001b[49m\u001b[38;5;28;43mself\u001b[39;49m\u001b[38;5;241;43m.\u001b[39;49m\u001b[43mworkd\u001b[49m\u001b[43m[\u001b[49m\u001b[43mBxslice\u001b[49m\u001b[43m]\u001b[49m\u001b[43m)\u001b[49m\n\u001b[1;32m    561\u001b[0m \u001b[38;5;28;01melif\u001b[39;00m \u001b[38;5;28mself\u001b[39m\u001b[38;5;241m.\u001b[39mido \u001b[38;5;241m==\u001b[39m \u001b[38;5;241m2\u001b[39m:\n\u001b[1;32m    562\u001b[0m     \u001b[38;5;28mself\u001b[39m\u001b[38;5;241m.\u001b[39mworkd[yslice] \u001b[38;5;241m=\u001b[39m \u001b[38;5;28mself\u001b[39m\u001b[38;5;241m.\u001b[39mB(\u001b[38;5;28mself\u001b[39m\u001b[38;5;241m.\u001b[39mworkd[xslice])\n",
      "File \u001b[0;32m~/Library/Python/3.9/lib/python/site-packages/scipy/sparse/linalg/_interface.py:232\u001b[0m, in \u001b[0;36mLinearOperator.matvec\u001b[0;34m(self, x)\u001b[0m\n\u001b[1;32m    229\u001b[0m \u001b[38;5;28;01mif\u001b[39;00m x\u001b[38;5;241m.\u001b[39mshape \u001b[38;5;241m!=\u001b[39m (N,) \u001b[38;5;129;01mand\u001b[39;00m x\u001b[38;5;241m.\u001b[39mshape \u001b[38;5;241m!=\u001b[39m (N,\u001b[38;5;241m1\u001b[39m):\n\u001b[1;32m    230\u001b[0m     \u001b[38;5;28;01mraise\u001b[39;00m \u001b[38;5;167;01mValueError\u001b[39;00m(\u001b[38;5;124m'\u001b[39m\u001b[38;5;124mdimension mismatch\u001b[39m\u001b[38;5;124m'\u001b[39m)\n\u001b[0;32m--> 232\u001b[0m y \u001b[38;5;241m=\u001b[39m \u001b[38;5;28;43mself\u001b[39;49m\u001b[38;5;241;43m.\u001b[39;49m\u001b[43m_matvec\u001b[49m\u001b[43m(\u001b[49m\u001b[43mx\u001b[49m\u001b[43m)\u001b[49m\n\u001b[1;32m    234\u001b[0m \u001b[38;5;28;01mif\u001b[39;00m \u001b[38;5;28misinstance\u001b[39m(x, np\u001b[38;5;241m.\u001b[39mmatrix):\n\u001b[1;32m    235\u001b[0m     y \u001b[38;5;241m=\u001b[39m asmatrix(y)\n",
      "File \u001b[0;32m~/Library/Python/3.9/lib/python/site-packages/scipy/sparse/linalg/_eigen/arpack/arpack.py:944\u001b[0m, in \u001b[0;36mLuInv._matvec\u001b[0;34m(self, x)\u001b[0m\n\u001b[1;32m    943\u001b[0m \u001b[38;5;28;01mdef\u001b[39;00m \u001b[38;5;21m_matvec\u001b[39m(\u001b[38;5;28mself\u001b[39m, x):\n\u001b[0;32m--> 944\u001b[0m     \u001b[38;5;28;01mreturn\u001b[39;00m \u001b[43mlu_solve\u001b[49m\u001b[43m(\u001b[49m\u001b[38;5;28;43mself\u001b[39;49m\u001b[38;5;241;43m.\u001b[39;49m\u001b[43mM_lu\u001b[49m\u001b[43m,\u001b[49m\u001b[43m \u001b[49m\u001b[43mx\u001b[49m\u001b[43m)\u001b[49m\n",
      "File \u001b[0;32m~/Library/Python/3.9/lib/python/site-packages/scipy/linalg/_decomp_lu.py:147\u001b[0m, in \u001b[0;36mlu_solve\u001b[0;34m(lu_and_piv, b, trans, overwrite_b, check_finite)\u001b[0m\n\u001b[1;32m    143\u001b[0m     \u001b[38;5;28;01mraise\u001b[39;00m \u001b[38;5;167;01mValueError\u001b[39;00m(\u001b[38;5;124m\"\u001b[39m\u001b[38;5;124mShapes of lu \u001b[39m\u001b[38;5;132;01m{}\u001b[39;00m\u001b[38;5;124m and b \u001b[39m\u001b[38;5;132;01m{}\u001b[39;00m\u001b[38;5;124m are incompatible\u001b[39m\u001b[38;5;124m\"\u001b[39m\n\u001b[1;32m    144\u001b[0m                      \u001b[38;5;241m.\u001b[39mformat(lu\u001b[38;5;241m.\u001b[39mshape, b1\u001b[38;5;241m.\u001b[39mshape))\n\u001b[1;32m    146\u001b[0m getrs, \u001b[38;5;241m=\u001b[39m get_lapack_funcs((\u001b[38;5;124m'\u001b[39m\u001b[38;5;124mgetrs\u001b[39m\u001b[38;5;124m'\u001b[39m,), (lu, b1))\n\u001b[0;32m--> 147\u001b[0m x, info \u001b[38;5;241m=\u001b[39m \u001b[43mgetrs\u001b[49m\u001b[43m(\u001b[49m\u001b[43mlu\u001b[49m\u001b[43m,\u001b[49m\u001b[43m \u001b[49m\u001b[43mpiv\u001b[49m\u001b[43m,\u001b[49m\u001b[43m \u001b[49m\u001b[43mb1\u001b[49m\u001b[43m,\u001b[49m\u001b[43m \u001b[49m\u001b[43mtrans\u001b[49m\u001b[38;5;241;43m=\u001b[39;49m\u001b[43mtrans\u001b[49m\u001b[43m,\u001b[49m\u001b[43m \u001b[49m\u001b[43moverwrite_b\u001b[49m\u001b[38;5;241;43m=\u001b[39;49m\u001b[43moverwrite_b\u001b[49m\u001b[43m)\u001b[49m\n\u001b[1;32m    148\u001b[0m \u001b[38;5;28;01mif\u001b[39;00m info \u001b[38;5;241m==\u001b[39m \u001b[38;5;241m0\u001b[39m:\n\u001b[1;32m    149\u001b[0m     \u001b[38;5;28;01mreturn\u001b[39;00m x\n",
      "\u001b[0;31mKeyboardInterrupt\u001b[0m: "
     ]
    }
   ],
   "source": [
    "# Spectral Clustering\n",
    "spectral = SpectralClustering(n_clusters=3, assign_labels='discretize', random_state=0)\n",
    "clusters = spectral.fit_predict(X)\n",
    "\n",
    "# Plotting\n",
    "plt.scatter(X_pca[:, 0], X_pca[:, 1], c=clusters, cmap='viridis', alpha=0.6)\n",
    "plt.title(\"Spectral Clustering after PCA\")\n",
    "plt.xlabel(\"PCA Component 1\")\n",
    "plt.ylabel(\"PCA Component 2\")\n",
    "plt.show()"
   ]
  },
  {
   "cell_type": "code",
   "execution_count": null,
   "metadata": {},
   "outputs": [],
   "source": []
  }
 ],
 "metadata": {
  "kernelspec": {
   "display_name": "Python 3",
   "language": "python",
   "name": "python3"
  },
  "language_info": {
   "codemirror_mode": {
    "name": "ipython",
    "version": 3
   },
   "file_extension": ".py",
   "mimetype": "text/x-python",
   "name": "python",
   "nbconvert_exporter": "python",
   "pygments_lexer": "ipython3",
   "version": "3.8.10"
  }
 },
 "nbformat": 4,
 "nbformat_minor": 2
}
